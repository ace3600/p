{
 "cells": [
  {
   "cell_type": "markdown",
   "metadata": {},
   "source": [
    "# - How COMPUTERS can learn to play games :\n",
    "> ## 1. Machine Learning\n",
    "> ## 2. Neural Networks\n",
    "> ## 3. T-Rex Runner\n",
    "> ## 4. Reinforcement Learning\n",
    "\n",
    "<br><br><br><br>\n",
    "\n",
    "## 1. Machine Learning\n",
    "> ## 1.1 Supervised Learning"
   ]
  },
  {
   "cell_type": "markdown",
   "metadata": {},
   "source": [
    "<img src=\"1.png\" alt=\"Alt text that describes the graphic\" title=\"Title text\" /><br><br><br>"
   ]
  },
  {
   "cell_type": "markdown",
   "metadata": {},
   "source": [
    "> ## 1.2 Unsupervised Learning"
   ]
  },
  {
   "cell_type": "markdown",
   "metadata": {},
   "source": [
    "<img src=\"2.jpeg\" alt=\"Alt text that describes the graphic\" title=\"Title text\" /><br><br><br>"
   ]
  },
  {
   "cell_type": "markdown",
   "metadata": {},
   "source": [
    "## 2. Neural Networks\n",
    "> ## 2.1 Artificial Neural Network"
   ]
  },
  {
   "cell_type": "markdown",
   "metadata": {},
   "source": [
    "<img src=\"3.png\" alt=\"Alt text that describes the graphic\" title=\"Title text\" /><br><br><br>\n",
    "\n",
    "<img src=\"4.png\" alt=\"Alt text that describes the graphic\" title=\"Title text\" /><br><br><br>"
   ]
  },
  {
   "cell_type": "markdown",
   "metadata": {},
   "source": [
    "> ## 2.2 Convolutional Neural Network\n",
    "\n",
    "> > ## 2.2.1 Convolution"
   ]
  },
  {
   "cell_type": "markdown",
   "metadata": {},
   "source": [
    "<img src=\"5.png\" alt=\"Alt text that describes the graphic\" title=\"Title text\" /><br><br><br>\n",
    "\n",
    "<img src=\"6.jpg\" alt=\"Alt text that describes the graphic\" title=\"Title text\" /><br><br><br>\n",
    "\n",
    "<img src=\"7.png\" alt=\"Alt text that describes the graphic\" title=\"Title text\" /><br><br><br>"
   ]
  },
  {
   "cell_type": "markdown",
   "metadata": {},
   "source": [
    "## 3. T-Rex Runner\n",
    "> ## 1.1 1st Methode Convolution"
   ]
  },
  {
   "cell_type": "markdown",
   "metadata": {},
   "source": [
    "<img src=\"jump.png\" alt=\"Alt text that describes the graphic\" title=\"Title text\" /><br><br><br>\n",
    "\n",
    "<img src=\"nokey.png\" alt=\"Alt text that describes the graphic\" title=\"Title text\" /><br><br><br>"
   ]
  },
  {
   "cell_type": "markdown",
   "metadata": {},
   "source": [
    "> ## 1.2 2nd Methode"
   ]
  },
  {
   "cell_type": "code",
   "execution_count": 1,
   "metadata": {},
   "outputs": [
    {
     "data": {
      "text/plain": [
       "<Figure size 1500x1500 with 1 Axes>"
      ]
     },
     "metadata": {},
     "output_type": "display_data"
    }
   ],
   "source": [
    "import cv2\n",
    "import numpy as np\n",
    "import matplotlib.pyplot as plt\n",
    "\n",
    "img = cv2.imread('jump.png')\n",
    "img = cv2.cvtColor(img, cv2.COLOR_BGR2GRAY)\n",
    "\n",
    "show = img.copy()\n",
    "plt.figure(figsize = (15,15))\n",
    "plt.imshow(show, cmap='gray')\n",
    "plt.show()"
   ]
  },
  {
   "cell_type": "code",
   "execution_count": 2,
   "metadata": {},
   "outputs": [
    {
     "data": {
      "image/png": "[encoded data removed]",
      "text/plain": [
       "<Figure size 1080x1080 with 1 Axes>"
      ]
     },
     "metadata": {
      "needs_background": "light"
     },
     "output_type": "display_data"
    }
   ],
   "source": [
    "ret, img = cv2.threshold(img, 100, 255, cv2.THRESH_BINARY_INV)\n",
    "\n",
    "show = img.copy()\n",
    "plt.figure(figsize = (15,15))\n",
    "plt.imshow(show, cmap='gray')\n",
    "plt.show()"
   ]
  },
  {
   "cell_type": "markdown",
   "metadata": {},
   "source": [
    "<img src=\"distance.png\" alt=\"Alt text that describes the graphic\" title=\"Title text\" /><br><br><br>"
   ]
  },
  {
   "cell_type": "code",
   "execution_count": 3,
   "metadata": {},
   "outputs": [
    {
     "data": {
      "image/png": "[encoded data removed]",
      "text/plain": [
       "<Figure size 1080x1080 with 1 Axes>"
      ]
     },
     "metadata": {
      "needs_background": "light"
     },
     "output_type": "display_data"
    }
   ],
   "source": [
    "img = img[100:130, 110:300]\n",
    "\n",
    "show = img.copy()\n",
    "plt.figure(figsize = (15,15))\n",
    "plt.imshow(show, cmap='gray')\n",
    "plt.show()"
   ]
  },
  {
   "cell_type": "code",
   "execution_count": 4,
   "metadata": {},
   "outputs": [
    {
     "name": "stdout",
     "output_type": "stream",
     "text": [
      "[[  0   0   0   0   0   0   0   0   0   0   0   0   0   0   0]\n",
      " [  0   0   0   0   0   0   0   0   0   0   0   0   0   0 255]\n",
      " [  0   0   0   0   0   0   0   0   0   0   0   0   0 255 255]\n",
      " [  0   0   0   0   0   0   0   0   0   0   0   0   0 255 255]\n",
      " [  0   0   0   0   0   0   0   0   0   0   0   0   0 255 255]\n",
      " [  0   0   0   0   0   0   0   0   0   0   0   0   0 255 255]\n",
      " [  0   0   0   0   0   0   0   0   0   0   0   0   0 255 255]\n",
      " [  0   0   0   0   0   0   0   0   0   0   0   0   0 255 255]\n",
      " [  0   0   0   0   0   0   0   0   0   0   0   0   0 255 255]\n",
      " [  0   0   0   0   0   0   0   0   0   0   0   0   0 255 255]\n",
      " [  0   0   0   0   0   0   0   0   0   0   0   0   0 255 255]\n",
      " [  0   0   0   0   0   0   0   0   0   0   0   0   0 255 255]\n",
      " [  0   0   0   0   0   0   0   0   0   0   0   0   0 255 255]\n",
      " [  0   0   0   0   0   0 255 255 255   0   0   0   0 255 255]\n",
      " [  0   0   0   0   0 255 255 255 255 255   0   0   0 255 255]\n",
      " [  0   0   0   0   0 255 255 255 255 255   0   0   0 255 255]\n",
      " [  0   0   0   0   0 255 255 255 255 255   0   0   0 255 255]\n",
      " [  0   0   0   0   0 255 255 255 255 255   0   0   0 255 255]\n",
      " [  0   0   0   0   0 255 255 255 255 255   0   0   0 255 255]\n",
      " [  0   0   0   0   0 255 255 255 255 255   0   0   0 255 255]\n",
      " [  0   0   0   0   0 255 255 255 255 255   0   0   0 255 255]\n",
      " [  0   0   0   0   0 255 255 255 255 255   0   0   0 255 255]\n",
      " [  0   0   0   0   0 255 255 255 255 255   0   0   0 255 255]\n",
      " [  0   0   0   0   0 255 255 255 255 255   0   0   0 255 255]\n",
      " [  0   0   0   0   0 255 255 255 255 255   0   0   0 255 255]\n",
      " [  0   0   0   0   0 255 255 255 255 255   0   0   0 255 255]\n",
      " [  0   0   0   0   0 255 255 255 255 255   0   0   0 255 255]\n",
      " [  0   0   0   0   0 255 255 255 255 255 255 255 255 255 255]\n",
      " [  0   0   0   0   0 255 255 255 255 255 255 255 255 255 255]\n",
      " [  0   0   0   0   0   0 255 255 255 255 255 255 255 255 255]]\n"
     ]
    }
   ],
   "source": [
    "print(img[0:,25:40])"
   ]
  },
  {
   "cell_type": "code",
   "execution_count": 5,
   "metadata": {},
   "outputs": [
    {
     "name": "stdout",
     "output_type": "stream",
     "text": [
      "object detected\n",
      "distance: 33.1058907144937\n"
     ]
    }
   ],
   "source": [
    "import math\n",
    "\n",
    "rows, cols = img.shape\n",
    "b = False\n",
    "\n",
    "for i in range(0, cols):\n",
    "    for j in range(0, rows):\n",
    "        if img[j, i] == 255:\n",
    "            print('object detected')\n",
    "            print('distance:', math.sqrt(math.pow(0-i, 2)+math.pow(0-j, 2)))\n",
    "            b = True\n",
    "            break\n",
    "    if b:\n",
    "        break"
   ]
  },
  {
   "cell_type": "code",
   "execution_count": 6,
   "metadata": {},
   "outputs": [
    {
     "name": "stdout",
     "output_type": "stream",
     "text": [
      "[[[ 0.          6.        ]\n",
      "  [ 0.          1.        ]]\n",
      "\n",
      " [[32.31098884  1.        ]\n",
      "  [ 1.          0.        ]]\n",
      "\n",
      " [[ 0.          4.        ]\n",
      "  [ 0.          1.        ]]\n",
      "\n",
      " [[60.00833275  2.        ]\n",
      "  [ 1.          0.        ]]\n",
      "\n",
      " [[39.84971769  1.        ]\n",
      "  [ 1.          0.        ]]\n",
      "\n",
      " [[ 0.          6.        ]\n",
      "  [ 0.          1.        ]]\n",
      "\n",
      " [[81.          5.        ]\n",
      "  [ 1.          0.        ]]\n",
      "\n",
      " [[18.02775638  6.        ]\n",
      "  [ 0.          1.        ]]\n",
      "\n",
      " [[ 0.          1.        ]\n",
      "  [ 0.          1.        ]]\n",
      "\n",
      " [[48.          6.        ]\n",
      "  [ 1.          0.        ]]]\n"
     ]
    }
   ],
   "source": [
    "file = np.load('OLD/Tirex/newData/training_data-1.npy')\n",
    "print(file[0:10,0:])"
   ]
  },
  {
   "cell_type": "markdown",
   "metadata": {},
   "source": [
    "<img src=\"nn.png\" alt=\"Alt text that describes the graphic\" title=\"Title text\" /><br><br><br>"
   ]
  },
  {
   "cell_type": "markdown",
   "metadata": {},
   "source": [
    "## 4. Reinforcement Learning\n",
    "\n",
    "<img src=\"mario_death.jpg\" alt=\"Alt text that describes the graphic\" title=\"Title text\" /><br><br><br>\n",
    "\n",
    "<img src=\"mario.gif\" alt=\"Alt text that describes the graphic\" title=\"Title text\" /><br><br><br>\n",
    "\n",
    "<img src=\"alpha.jpg\" alt=\"Alt text that describes the graphic\" title=\"Title text\" /><br><br><br>\n",
    "\n",
    "<img src=\"dota.jpg\" alt=\"Alt text that describes the graphic\" title=\"Title text\" /><br><br><br>"
   ]
  },
  {
   "cell_type": "code",
   "execution_count": null,
   "metadata": {},
   "outputs": [],
   "source": []
  }
 ],
 "metadata": {
  "kernelspec": {
   "display_name": "Python 3",
   "language": "python",
   "name": "python3"
  },
  "language_info": {
   "codemirror_mode": {
    "name": "ipython",
    "version": 3
   },
   "file_extension": ".py",
   "mimetype": "text/x-python",
   "name": "python",
   "nbconvert_exporter": "python",
   "pygments_lexer": "ipython3",
   "version": "3.6.8"
  }
 },
 "nbformat": 4,
 "nbformat_minor": 2
}
